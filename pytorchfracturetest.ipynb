{
  "nbformat": 4,
  "nbformat_minor": 0,
  "metadata": {
    "colab": {
      "name": "pytorchfracturetest.ipynb",
      "provenance": [],
      "collapsed_sections": [],
      "mount_file_id": "1yJT-7A-Y6Gl9DyW3osNBlLne1Mrui_h_",
      "authorship_tag": "ABX9TyMjsmlwJHdHRnY77xbRV+zV",
      "include_colab_link": true
    },
    "kernelspec": {
      "name": "python3",
      "display_name": "Python 3"
    },
    "accelerator": "GPU"
  },
  "cells": [
    {
      "cell_type": "markdown",
      "metadata": {
        "id": "view-in-github",
        "colab_type": "text"
      },
      "source": [
        "<a href=\"https://colab.research.google.com/github/harshaneo17/pytorch_object_detection/blob/main/pytorchfracturetest.ipynb\" target=\"_parent\"><img src=\"https://colab.research.google.com/assets/colab-badge.svg\" alt=\"Open In Colab\"/></a>"
      ]
    },
    {
      "cell_type": "code",
      "metadata": {
        "id": "85HNOSPeQ0Ut"
      },
      "source": [
        "# install dependencies: \n",
        "!pip install pyyaml==5.1 pycocotools>=2.0.1\n",
        "import torch, torchvision\n",
        "print(torch.__version__, torch.cuda.is_available())\n",
        "!gcc --version\n",
        "# opencv is pre-installed on colab"
      ],
      "execution_count": null,
      "outputs": []
    },
    {
      "cell_type": "code",
      "metadata": {
        "id": "PKsDZtnKTR_x"
      },
      "source": [
        "# install detectron2: (Colab has CUDA 10.1 + torch 1.6)\n",
        "# See https://detectron2.readthedocs.io/tutorials/install.html for instructions\n",
        "assert torch.__version__.startswith(\"1.6\")\n",
        "!pip install detectron2 -f https://dl.fbaipublicfiles.com/detectron2/wheels/cu101/torch1.6/index.html"
      ],
      "execution_count": null,
      "outputs": []
    },
    {
      "cell_type": "code",
      "metadata": {
        "id": "ADV-dbxCTTuG"
      },
      "source": [
        "import detectron2\n",
        "from detectron2.utils.logger import setup_logger\n",
        "setup_logger()\n",
        "\n",
        "# import some common libraries\n",
        "import numpy as np\n",
        "import cv2\n",
        "import matplotlib.pyplot as plt\n",
        "\n",
        "# import some common detectron2 utilities\n",
        "from detectron2 import model_zoo\n",
        "from detectron2.engine import DefaultPredictor\n",
        "from detectron2.config import get_cfg\n",
        "from detectron2.utils.visualizer import Visualizer\n",
        "from detectron2.data import MetadataCatalog"
      ],
      "execution_count": null,
      "outputs": []
    },
    {
      "cell_type": "code",
      "metadata": {
        "id": "n3FdwM5gTcL3",
        "colab": {
          "base_uri": "https://localhost:8080/",
          "height": 136
        },
        "outputId": "123f1979-a7bc-47f3-adb6-7b3bb7463738"
      },
      "source": [
        "# Install Kaggle API\n",
        "!pip install -q kaggle\n",
        "!pip install -q kaggle-cli"
      ],
      "execution_count": null,
      "outputs": [
        {
          "output_type": "stream",
          "text": [
            "\u001b[K     |████████████████████████████████| 81kB 2.5MB/s \n",
            "\u001b[K     |████████████████████████████████| 5.3MB 5.7MB/s \n",
            "\u001b[K     |████████████████████████████████| 51kB 6.2MB/s \n",
            "\u001b[K     |████████████████████████████████| 133kB 43.1MB/s \n",
            "\u001b[K     |████████████████████████████████| 112kB 44.2MB/s \n",
            "\u001b[?25h  Building wheel for kaggle-cli (setup.py) ... \u001b[?25l\u001b[?25hdone\n",
            "  Building wheel for pyperclip (setup.py) ... \u001b[?25l\u001b[?25hdone\n"
          ],
          "name": "stdout"
        }
      ]
    },
    {
      "cell_type": "code",
      "metadata": {
        "id": "WKppbZF1TdSu"
      },
      "source": [
        "# only for google colab\n",
        "import os\n",
        "os.environ['KAGGLE_USERNAME'] = \"harshaarya\" \n",
        "os.environ['KAGGLE_KEY'] = \"bc281a5684cfad47c7776d7021c53581\""
      ],
      "execution_count": null,
      "outputs": []
    },
    {
      "cell_type": "code",
      "metadata": {
        "id": "j6uOt6hXUOxD",
        "colab": {
          "base_uri": "https://localhost:8080/",
          "height": 68
        },
        "outputId": "7fa8994a-9634-40c3-aa08-8c3950dcad5f"
      },
      "source": [
        "!kaggle datasets download -d harshaarya/robofracture"
      ],
      "execution_count": null,
      "outputs": [
        {
          "output_type": "stream",
          "text": [
            "Downloading robofracture.zip to /content\n",
            " 96% 189M/198M [00:02<00:00, 51.1MB/s]\n",
            "100% 198M/198M [00:04<00:00, 50.2MB/s]\n"
          ],
          "name": "stdout"
        }
      ]
    },
    {
      "cell_type": "code",
      "metadata": {
        "id": "YWd0AP_sUzy8"
      },
      "source": [
        "!unzip robofracture.zip"
      ],
      "execution_count": null,
      "outputs": []
    },
    {
      "cell_type": "code",
      "metadata": {
        "id": "LcoxAQjWWUEc"
      },
      "source": [
        "import os\n",
        "import numpy as np\n",
        "import json\n",
        "from detectron2.structures import BoxMode\n",
        "import itertools\n",
        "import cv2\n",
        "import pandas as pd\n",
        "\n",
        "# write a function that loads the dataset into detectron2's standard format\n",
        "def get_robofracture_dicts(csv_file, img_dir):\n",
        "    df = pd.read_csv(csv_file)\n",
        "    df['filename'] = df['filename'].map(lambda x: img_dir+x)\n",
        "\n",
        "    classes = ['fracture']\n",
        "\n",
        "    df['class_int'] = df['class'].map(lambda x: classes.index(x))\n",
        "\n",
        "    dataset_dicts = []\n",
        "    for filename in df['filename'].unique().tolist():\n",
        "        record = {}\n",
        "        \n",
        "        height, width = cv2.imread(filename).shape[:2]\n",
        "        \n",
        "        record[\"file_name\"] = filename\n",
        "        record[\"height\"] = height\n",
        "        record[\"width\"] = width\n",
        "\n",
        "        objs = []\n",
        "        for index, row in df[(df['filename']==filename)].iterrows():\n",
        "          obj= {\n",
        "              'bbox': [row['xmin'], row['ymin'], row['xmax'], row['ymax']],\n",
        "              'bbox_mode': BoxMode.XYXY_ABS,\n",
        "              'category_id': row['class_int'],\n",
        "              \"iscrowd\": 0\n",
        "          }\n",
        "          objs.append(obj)\n",
        "        record[\"annotations\"] = objs\n",
        "        dataset_dicts.append(record)\n",
        "    return dataset_dicts"
      ],
      "execution_count": null,
      "outputs": []
    },
    {
      "cell_type": "code",
      "metadata": {
        "id": "wudNRV86WYta"
      },
      "source": [
        "from detectron2.data import DatasetCatalog, MetadataCatalog\n",
        "\n",
        "classes = ['fracture']\n",
        "\n",
        "for d in [\"train\", \"test\"]:\n",
        "  DatasetCatalog.register('robofracture/' + d, lambda d=d: get_robofracture_dicts('robofracture/' + d + '_labels.csv', 'robofracture/' + d+'/'))\n",
        "  MetadataCatalog.get('robofracture/' + d).set(thing_classes=classes)\n",
        "robofracture_metadata = MetadataCatalog.get('robofracture/train')"
      ],
      "execution_count": null,
      "outputs": []
    },
    {
      "cell_type": "code",
      "metadata": {
        "id": "rCzQHzBkU8ZF"
      },
      "source": [
        "\n",
        "from detectron2.engine import DefaultTrainer\n",
        "from detectron2.config import get_cfg\n",
        "\n",
        "cfg = get_cfg()\n",
        "cfg.merge_from_file(model_zoo.get_config_file(\"COCO-Detection/faster_rcnn_R_101_FPN_3x.yaml\"))\n",
        "cfg.DATASETS.TRAIN = ('robofracture/train',)\n",
        "cfg.DATASETS.TEST = ()   # no metrics implemented for this dataset\n",
        "cfg.DATALOADER.NUM_WORKERS = 2\n",
        "cfg.MODEL.WEIGHTS = model_zoo.get_checkpoint_url(\"COCO-Detection/faster_rcnn_R_101_FPN_3x.yaml\")\n",
        "\n",
        "cfg.MODEL.ROI_HEADS.NUM_CLASSES = 1\n",
        "\n"
      ],
      "execution_count": null,
      "outputs": []
    },
    {
      "cell_type": "code",
      "metadata": {
        "id": "veBRu2MfbVl4"
      },
      "source": [
        "cfg.MODEL.WEIGHTS = os.path.join('/content/drive/My Drive/output/' + 'model_final.pth')\n",
        "cfg.MODEL.ROI_HEADS.SCORE_THRESH_TEST = 0.8   # set the testing threshold for this model\n",
        "cfg.DATASETS.TEST = ('robofracture/test', )\n",
        "predictor = DefaultPredictor(cfg)"
      ],
      "execution_count": null,
      "outputs": []
    },
    {
      "cell_type": "code",
      "metadata": {
        "id": "HWwmOnaeYnHi"
      },
      "source": [
        "from detectron2.utils.visualizer import ColorMode\n",
        "import random\n",
        "\n",
        "dataset_dicts = DatasetCatalog.get('robofracture/test')\n",
        "for d in random.sample(dataset_dicts, 5):    \n",
        "    im = cv2.imread(d[\"file_name\"])\n",
        "    outputs = predictor(im)\n",
        "    v = Visualizer(im[:, :, ::-1], metadata=robofracture_metadata, scale=0.8)\n",
        "    v = v.draw_instance_predictions(outputs[\"instances\"].to(\"cpu\"))\n",
        "    plt.figure(figsize = (14, 10))\n",
        "    plt.imshow(cv2.cvtColor(v.get_image()[:, :, ::-1], cv2.COLOR_BGR2RGB))\n",
        "    plt.show()"
      ],
      "execution_count": null,
      "outputs": []
    }
  ]
}